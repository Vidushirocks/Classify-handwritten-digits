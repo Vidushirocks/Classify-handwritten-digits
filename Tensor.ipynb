{
  "nbformat": 4,
  "nbformat_minor": 0,
  "metadata": {
    "colab": {
      "name": "Tensor.ipynb",
      "provenance": [],
      "authorship_tag": "ABX9TyPKx2pfOcCkljMtGcEHfDHX"
    },
    "kernelspec": {
      "name": "python3",
      "display_name": "Python 3"
    }
  },
  "cells": [
    {
      "cell_type": "code",
      "metadata": {
        "id": "00zIRCeO5vwi"
      },
      "source": [
        "import keras"
      ],
      "execution_count": null,
      "outputs": []
    },
    {
      "cell_type": "code",
      "metadata": {
        "id": "At2rxaV85zel"
      },
      "source": [
        "from keras.datasets import mnist"
      ],
      "execution_count": null,
      "outputs": []
    },
    {
      "cell_type": "code",
      "metadata": {
        "colab": {
          "base_uri": "https://localhost:8080/"
        },
        "id": "jLgvZnt76Cq-",
        "outputId": "51bc3905-2378-4f50-d3a2-37573742a829"
      },
      "source": [
        "data = mnist.load_data()\n",
        "(train_images, train_labels), (test_images, test_labels) = data"
      ],
      "execution_count": null,
      "outputs": [
        {
          "output_type": "stream",
          "text": [
            "Downloading data from https://storage.googleapis.com/tensorflow/tf-keras-datasets/mnist.npz\n",
            "11493376/11490434 [==============================] - 0s 0us/step\n"
          ],
          "name": "stdout"
        }
      ]
    },
    {
      "cell_type": "code",
      "metadata": {
        "colab": {
          "base_uri": "https://localhost:8080/"
        },
        "id": "N21l1AeV6VZ1",
        "outputId": "6227572b-4f06-46ab-f9a6-48654756f3b5"
      },
      "source": [
        "len(train_images)"
      ],
      "execution_count": null,
      "outputs": [
        {
          "output_type": "execute_result",
          "data": {
            "text/plain": [
              "60000"
            ]
          },
          "metadata": {
            "tags": []
          },
          "execution_count": 4
        }
      ]
    },
    {
      "cell_type": "code",
      "metadata": {
        "colab": {
          "base_uri": "https://localhost:8080/"
        },
        "id": "NoQ7ymhQ6YLA",
        "outputId": "4963814b-0f82-4909-e441-85b5d1526b35"
      },
      "source": [
        "len(train_labels)"
      ],
      "execution_count": null,
      "outputs": [
        {
          "output_type": "execute_result",
          "data": {
            "text/plain": [
              "60000"
            ]
          },
          "metadata": {
            "tags": []
          },
          "execution_count": 5
        }
      ]
    },
    {
      "cell_type": "code",
      "metadata": {
        "colab": {
          "base_uri": "https://localhost:8080/"
        },
        "id": "Mq-fFieH6jGc",
        "outputId": "2c1d55ef-9033-458c-8351-9447f7ab338b"
      },
      "source": [
        "len(test_images)"
      ],
      "execution_count": null,
      "outputs": [
        {
          "output_type": "execute_result",
          "data": {
            "text/plain": [
              "10000"
            ]
          },
          "metadata": {
            "tags": []
          },
          "execution_count": 6
        }
      ]
    },
    {
      "cell_type": "code",
      "metadata": {
        "id": "JdBF0uwR6lGu"
      },
      "source": [
        "train_images = train_images.reshape((60000, 28, 28, 1))"
      ],
      "execution_count": null,
      "outputs": []
    },
    {
      "cell_type": "code",
      "metadata": {
        "id": "2R-A40m_6sAN"
      },
      "source": [
        "test_images = test_images.reshape((10000, 28, 28, 1))"
      ],
      "execution_count": null,
      "outputs": []
    },
    {
      "cell_type": "code",
      "metadata": {
        "id": "A5lwFgsG6x8Q"
      },
      "source": [
        "train_images = train_images.astype('float')/255 #normalization"
      ],
      "execution_count": null,
      "outputs": []
    },
    {
      "cell_type": "code",
      "metadata": {
        "id": "Eb3b99d264w8"
      },
      "source": [
        "test_images = test_images.astype('float')/255 #normalization"
      ],
      "execution_count": null,
      "outputs": []
    },
    {
      "cell_type": "code",
      "metadata": {
        "id": "Lpv0mokN6-Ta"
      },
      "source": [
        "from keras.preprocessing import image\n",
        "import matplotlib.pyplot as plt"
      ],
      "execution_count": null,
      "outputs": []
    },
    {
      "cell_type": "code",
      "metadata": {
        "colab": {
          "base_uri": "https://localhost:8080/",
          "height": 282
        },
        "id": "PClb5wRf7Ge7",
        "outputId": "86229513-39e4-49d8-a75c-6696125777ae"
      },
      "source": [
        "plt.imshow(image.array_to_img(train_images[8]), cmap=\"gray\")"
      ],
      "execution_count": null,
      "outputs": [
        {
          "output_type": "execute_result",
          "data": {
            "text/plain": [
              "<matplotlib.image.AxesImage at 0x7f1fb7de5da0>"
            ]
          },
          "metadata": {
            "tags": []
          },
          "execution_count": 12
        },
        {
          "output_type": "display_data",
          "data": {
            "image/png": "[encoded data removed]",
            "text/plain": [
              "<Figure size 432x288 with 1 Axes>"
            ]
          },
          "metadata": {
            "tags": [],
            "needs_background": "light"
          }
        }
      ]
    },
    {
      "cell_type": "code",
      "metadata": {
        "colab": {
          "base_uri": "https://localhost:8080/"
        },
        "id": "mE0ZSJ-B7Jqp",
        "outputId": "17493f85-d1f3-4818-8a44-921791628a3e"
      },
      "source": [
        "train_labels[8]"
      ],
      "execution_count": null,
      "outputs": [
        {
          "output_type": "execute_result",
          "data": {
            "text/plain": [
              "1"
            ]
          },
          "metadata": {
            "tags": []
          },
          "execution_count": 13
        }
      ]
    },
    {
      "cell_type": "code",
      "metadata": {
        "id": "PQZmmNAg7PFr"
      },
      "source": [
        "from keras.utils import to_categorical\n",
        "train_labels_original = train_labels\n",
        "train_labels = to_categorical(train_labels)"
      ],
      "execution_count": null,
      "outputs": []
    },
    {
      "cell_type": "code",
      "metadata": {
        "colab": {
          "base_uri": "https://localhost:8080/"
        },
        "id": "sFYGVRT47lYJ",
        "outputId": "37020ed9-b55b-44e7-d078-0a2dd78c664a"
      },
      "source": [
        "train_labels[20]"
      ],
      "execution_count": null,
      "outputs": [
        {
          "output_type": "execute_result",
          "data": {
            "text/plain": [
              "array([0., 0., 0., 0., 1., 0., 0., 0., 0., 0.], dtype=float32)"
            ]
          },
          "metadata": {
            "tags": []
          },
          "execution_count": 15
        }
      ]
    },
    {
      "cell_type": "code",
      "metadata": {
        "id": "VoTnQ8PV7qeG"
      },
      "source": [
        "test_labels_original = test_labels\n",
        "test_labels = to_categorical(test_labels)"
      ],
      "execution_count": null,
      "outputs": []
    },
    {
      "cell_type": "code",
      "metadata": {
        "colab": {
          "base_uri": "https://localhost:8080/"
        },
        "id": "yxEVxCEu7wNt",
        "outputId": "bef0f1df-7845-4207-bf44-174e13891112"
      },
      "source": [
        "test_labels_original[7]"
      ],
      "execution_count": null,
      "outputs": [
        {
          "output_type": "execute_result",
          "data": {
            "text/plain": [
              "9"
            ]
          },
          "metadata": {
            "tags": []
          },
          "execution_count": 17
        }
      ]
    },
    {
      "cell_type": "code",
      "metadata": {
        "colab": {
          "base_uri": "https://localhost:8080/"
        },
        "id": "cTHzZMFf741Z",
        "outputId": "8dbe96bb-c7ba-412e-cfcd-de8ab8167f70"
      },
      "source": [
        "test_labels[7]"
      ],
      "execution_count": null,
      "outputs": [
        {
          "output_type": "execute_result",
          "data": {
            "text/plain": [
              "array([0., 0., 0., 0., 0., 0., 0., 0., 0., 1.], dtype=float32)"
            ]
          },
          "metadata": {
            "tags": []
          },
          "execution_count": 18
        }
      ]
    },
    {
      "cell_type": "code",
      "metadata": {
        "id": "XjW-mxER77F-"
      },
      "source": [
        "from keras import layers, models"
      ],
      "execution_count": null,
      "outputs": []
    },
    {
      "cell_type": "code",
      "metadata": {
        "id": "3njvrXez7_nC"
      },
      "source": [
        "model = models.Sequential()"
      ],
      "execution_count": null,
      "outputs": []
    },
    {
      "cell_type": "code",
      "metadata": {
        "id": "ppM_PLjG8DMe"
      },
      "source": [
        "model.add(layers.Conv2D(32, (3,3), activation='relu', input_shape = (28,28,1)))"
      ],
      "execution_count": null,
      "outputs": []
    },
    {
      "cell_type": "code",
      "metadata": {
        "colab": {
          "base_uri": "https://localhost:8080/"
        },
        "id": "n6YXsye_8ITi",
        "outputId": "e7b0410f-7659-469c-8a28-a651a6d78f0c"
      },
      "source": [
        "model.summary()"
      ],
      "execution_count": null,
      "outputs": [
        {
          "output_type": "stream",
          "text": [
            "Model: \"sequential\"\n",
            "_________________________________________________________________\n",
            "Layer (type)                 Output Shape              Param #   \n",
            "=================================================================\n",
            "conv2d (Conv2D)              (None, 26, 26, 32)        320       \n",
            "=================================================================\n",
            "Total params: 320\n",
            "Trainable params: 320\n",
            "Non-trainable params: 0\n",
            "_________________________________________________________________\n"
          ],
          "name": "stdout"
        }
      ]
    },
    {
      "cell_type": "code",
      "metadata": {
        "id": "aHDzHYX28Mja"
      },
      "source": [
        "model.add(layers.MaxPooling2D((2,2)))"
      ],
      "execution_count": null,
      "outputs": []
    },
    {
      "cell_type": "code",
      "metadata": {
        "id": "J1SpXRXx8Tk3"
      },
      "source": [
        "model.add(layers.Conv2D(64, (3,3), activation = 'relu'))"
      ],
      "execution_count": null,
      "outputs": []
    },
    {
      "cell_type": "code",
      "metadata": {
        "colab": {
          "base_uri": "https://localhost:8080/"
        },
        "id": "-pBopkWY8X55",
        "outputId": "592f334d-64ae-4bb8-b0b8-a627100cbb51"
      },
      "source": [
        "model.summary()"
      ],
      "execution_count": null,
      "outputs": [
        {
          "output_type": "stream",
          "text": [
            "Model: \"sequential\"\n",
            "_________________________________________________________________\n",
            "Layer (type)                 Output Shape              Param #   \n",
            "=================================================================\n",
            "conv2d (Conv2D)              (None, 26, 26, 32)        320       \n",
            "_________________________________________________________________\n",
            "max_pooling2d (MaxPooling2D) (None, 13, 13, 32)        0         \n",
            "_________________________________________________________________\n",
            "conv2d_1 (Conv2D)            (None, 11, 11, 64)        18496     \n",
            "=================================================================\n",
            "Total params: 18,816\n",
            "Trainable params: 18,816\n",
            "Non-trainable params: 0\n",
            "_________________________________________________________________\n"
          ],
          "name": "stdout"
        }
      ]
    },
    {
      "cell_type": "code",
      "metadata": {
        "id": "l9VoqVRu9IZJ"
      },
      "source": [
        "model.add(layers.MaxPooling2D((2,2)))"
      ],
      "execution_count": null,
      "outputs": []
    },
    {
      "cell_type": "code",
      "metadata": {
        "id": "WayWid_C9pel"
      },
      "source": [
        "model.add(layers.Conv2D(64, (3,3), activation='relu'))"
      ],
      "execution_count": null,
      "outputs": []
    },
    {
      "cell_type": "code",
      "metadata": {
        "colab": {
          "base_uri": "https://localhost:8080/"
        },
        "id": "7KZ0T3Sv9v_H",
        "outputId": "bb1b0372-e355-4301-811d-7056b75f690b"
      },
      "source": [
        "model.summary()"
      ],
      "execution_count": null,
      "outputs": [
        {
          "output_type": "stream",
          "text": [
            "Model: \"sequential\"\n",
            "_________________________________________________________________\n",
            "Layer (type)                 Output Shape              Param #   \n",
            "=================================================================\n",
            "conv2d (Conv2D)              (None, 26, 26, 32)        320       \n",
            "_________________________________________________________________\n",
            "max_pooling2d (MaxPooling2D) (None, 13, 13, 32)        0         \n",
            "_________________________________________________________________\n",
            "conv2d_1 (Conv2D)            (None, 11, 11, 64)        18496     \n",
            "_________________________________________________________________\n",
            "max_pooling2d_1 (MaxPooling2 (None, 5, 5, 64)          0         \n",
            "_________________________________________________________________\n",
            "conv2d_2 (Conv2D)            (None, 3, 3, 64)          36928     \n",
            "=================================================================\n",
            "Total params: 55,744\n",
            "Trainable params: 55,744\n",
            "Non-trainable params: 0\n",
            "_________________________________________________________________\n"
          ],
          "name": "stdout"
        }
      ]
    },
    {
      "cell_type": "code",
      "metadata": {
        "id": "ZN3wHTaX9xz1"
      },
      "source": [
        "model.add(layers.Flatten())"
      ],
      "execution_count": null,
      "outputs": []
    },
    {
      "cell_type": "code",
      "metadata": {
        "colab": {
          "base_uri": "https://localhost:8080/"
        },
        "id": "dpnmD0aw92hk",
        "outputId": "86e13fcd-a447-46c1-b2b7-d0766afd8e21"
      },
      "source": [
        "model.summary()"
      ],
      "execution_count": null,
      "outputs": [
        {
          "output_type": "stream",
          "text": [
            "Model: \"sequential\"\n",
            "_________________________________________________________________\n",
            "Layer (type)                 Output Shape              Param #   \n",
            "=================================================================\n",
            "conv2d (Conv2D)              (None, 26, 26, 32)        320       \n",
            "_________________________________________________________________\n",
            "max_pooling2d (MaxPooling2D) (None, 13, 13, 32)        0         \n",
            "_________________________________________________________________\n",
            "conv2d_1 (Conv2D)            (None, 11, 11, 64)        18496     \n",
            "_________________________________________________________________\n",
            "max_pooling2d_1 (MaxPooling2 (None, 5, 5, 64)          0         \n",
            "_________________________________________________________________\n",
            "conv2d_2 (Conv2D)            (None, 3, 3, 64)          36928     \n",
            "_________________________________________________________________\n",
            "flatten (Flatten)            (None, 576)               0         \n",
            "=================================================================\n",
            "Total params: 55,744\n",
            "Trainable params: 55,744\n",
            "Non-trainable params: 0\n",
            "_________________________________________________________________\n"
          ],
          "name": "stdout"
        }
      ]
    },
    {
      "cell_type": "code",
      "metadata": {
        "id": "WbXXjKCy962-"
      },
      "source": [
        "model.add(layers.Dense(64, activation = 'relu'))"
      ],
      "execution_count": null,
      "outputs": []
    },
    {
      "cell_type": "code",
      "metadata": {
        "id": "G3_wcVuf-BXg"
      },
      "source": [
        "model.add(layers.Dense(10, activation='softmax'))"
      ],
      "execution_count": null,
      "outputs": []
    },
    {
      "cell_type": "code",
      "metadata": {
        "colab": {
          "base_uri": "https://localhost:8080/"
        },
        "id": "O2Sgpxae-FpU",
        "outputId": "c1c179f7-f8fe-41e7-ff37-67323f7c0be8"
      },
      "source": [
        "model.summary()"
      ],
      "execution_count": null,
      "outputs": [
        {
          "output_type": "stream",
          "text": [
            "Model: \"sequential\"\n",
            "_________________________________________________________________\n",
            "Layer (type)                 Output Shape              Param #   \n",
            "=================================================================\n",
            "conv2d (Conv2D)              (None, 26, 26, 32)        320       \n",
            "_________________________________________________________________\n",
            "max_pooling2d (MaxPooling2D) (None, 13, 13, 32)        0         \n",
            "_________________________________________________________________\n",
            "conv2d_1 (Conv2D)            (None, 11, 11, 64)        18496     \n",
            "_________________________________________________________________\n",
            "max_pooling2d_1 (MaxPooling2 (None, 5, 5, 64)          0         \n",
            "_________________________________________________________________\n",
            "conv2d_2 (Conv2D)            (None, 3, 3, 64)          36928     \n",
            "_________________________________________________________________\n",
            "flatten (Flatten)            (None, 576)               0         \n",
            "_________________________________________________________________\n",
            "dense (Dense)                (None, 64)                36928     \n",
            "_________________________________________________________________\n",
            "dense_1 (Dense)              (None, 10)                650       \n",
            "=================================================================\n",
            "Total params: 93,322\n",
            "Trainable params: 93,322\n",
            "Non-trainable params: 0\n",
            "_________________________________________________________________\n"
          ],
          "name": "stdout"
        }
      ]
    },
    {
      "cell_type": "code",
      "metadata": {
        "id": "-HMK988C-TUP"
      },
      "source": [
        "model.compile(loss='categorical_crossentropy', optimizer='rmsprop', metrics=['accuracy'])"
      ],
      "execution_count": null,
      "outputs": []
    },
    {
      "cell_type": "code",
      "metadata": {
        "colab": {
          "base_uri": "https://localhost:8080/"
        },
        "id": "ZFanVkmu-aGS",
        "outputId": "55ab73ed-663f-4802-c78b-b3590ab2d606"
      },
      "source": [
        "model.fit(train_images, train_labels, epochs = 100, batch_size=64)"
      ],
      "execution_count": null,
      "outputs": [
        {
          "output_type": "stream",
          "text": [
            "Epoch 1/100\n",
            "938/938 [==============================] - 49s 53ms/step - loss: 0.1731 - accuracy: 0.9461\n",
            "Epoch 2/100\n",
            "938/938 [==============================] - 50s 54ms/step - loss: 0.0488 - accuracy: 0.9847\n",
            "Epoch 3/100\n",
            "938/938 [==============================] - 50s 53ms/step - loss: 0.0337 - accuracy: 0.9895\n",
            "Epoch 4/100\n",
            "938/938 [==============================] - 49s 53ms/step - loss: 0.0260 - accuracy: 0.9918\n",
            "Epoch 5/100\n",
            "938/938 [==============================] - 49s 53ms/step - loss: 0.0197 - accuracy: 0.9941\n",
            "Epoch 6/100\n",
            "938/938 [==============================] - 49s 52ms/step - loss: 0.0160 - accuracy: 0.9951\n",
            "Epoch 7/100\n",
            "938/938 [==============================] - 49s 52ms/step - loss: 0.0132 - accuracy: 0.9958\n",
            "Epoch 8/100\n",
            "938/938 [==============================] - 49s 53ms/step - loss: 0.0107 - accuracy: 0.9966\n",
            "Epoch 9/100\n",
            "938/938 [==============================] - 50s 53ms/step - loss: 0.0098 - accuracy: 0.9969\n",
            "Epoch 10/100\n",
            "938/938 [==============================] - 49s 52ms/step - loss: 0.0074 - accuracy: 0.9980\n",
            "Epoch 11/100\n",
            "938/938 [==============================] - 49s 52ms/step - loss: 0.0074 - accuracy: 0.9978\n",
            "Epoch 12/100\n",
            "938/938 [==============================] - 48s 51ms/step - loss: 0.0063 - accuracy: 0.9980\n",
            "Epoch 13/100\n",
            "938/938 [==============================] - 48s 51ms/step - loss: 0.0064 - accuracy: 0.9980\n",
            "Epoch 14/100\n",
            "938/938 [==============================] - 48s 51ms/step - loss: 0.0053 - accuracy: 0.9984\n",
            "Epoch 15/100\n",
            "938/938 [==============================] - 49s 52ms/step - loss: 0.0048 - accuracy: 0.9987\n",
            "Epoch 16/100\n",
            "938/938 [==============================] - 53s 57ms/step - loss: 0.0041 - accuracy: 0.9988\n",
            "Epoch 17/100\n",
            "938/938 [==============================] - 49s 52ms/step - loss: 0.0033 - accuracy: 0.9989\n",
            "Epoch 18/100\n",
            "938/938 [==============================] - 49s 52ms/step - loss: 0.0049 - accuracy: 0.9986\n",
            "Epoch 19/100\n",
            "938/938 [==============================] - 49s 53ms/step - loss: 0.0039 - accuracy: 0.9989\n",
            "Epoch 20/100\n",
            "938/938 [==============================] - 50s 53ms/step - loss: 0.0037 - accuracy: 0.9990\n",
            "Epoch 21/100\n",
            "938/938 [==============================] - 50s 53ms/step - loss: 0.0034 - accuracy: 0.9990\n",
            "Epoch 22/100\n",
            "938/938 [==============================] - 49s 53ms/step - loss: 0.0040 - accuracy: 0.9990\n",
            "Epoch 23/100\n",
            "938/938 [==============================] - 50s 53ms/step - loss: 0.0024 - accuracy: 0.9993\n",
            "Epoch 24/100\n",
            "938/938 [==============================] - 50s 53ms/step - loss: 0.0026 - accuracy: 0.9992\n",
            "Epoch 25/100\n",
            "938/938 [==============================] - 49s 53ms/step - loss: 0.0018 - accuracy: 0.9996\n",
            "Epoch 26/100\n",
            "938/938 [==============================] - 50s 53ms/step - loss: 0.0030 - accuracy: 0.9995\n",
            "Epoch 27/100\n",
            "938/938 [==============================] - 49s 53ms/step - loss: 0.0036 - accuracy: 0.9991\n",
            "Epoch 28/100\n",
            "938/938 [==============================] - 56s 59ms/step - loss: 0.0021 - accuracy: 0.9994\n",
            "Epoch 29/100\n",
            "938/938 [==============================] - 49s 52ms/step - loss: 0.0025 - accuracy: 0.9994\n",
            "Epoch 30/100\n",
            "938/938 [==============================] - 50s 53ms/step - loss: 0.0024 - accuracy: 0.9994\n",
            "Epoch 31/100\n",
            "938/938 [==============================] - 49s 53ms/step - loss: 0.0029 - accuracy: 0.9994\n",
            "Epoch 32/100\n",
            "938/938 [==============================] - 49s 53ms/step - loss: 0.0018 - accuracy: 0.9996\n",
            "Epoch 33/100\n",
            "938/938 [==============================] - 49s 53ms/step - loss: 0.0022 - accuracy: 0.9995\n",
            "Epoch 34/100\n",
            "938/938 [==============================] - 50s 53ms/step - loss: 0.0024 - accuracy: 0.9995\n",
            "Epoch 35/100\n",
            "938/938 [==============================] - 50s 53ms/step - loss: 0.0018 - accuracy: 0.9996\n",
            "Epoch 36/100\n",
            "938/938 [==============================] - 50s 53ms/step - loss: 0.0020 - accuracy: 0.9995\n",
            "Epoch 37/100\n",
            "938/938 [==============================] - 50s 53ms/step - loss: 0.0018 - accuracy: 0.9995\n",
            "Epoch 38/100\n",
            "938/938 [==============================] - 50s 53ms/step - loss: 0.0011 - accuracy: 0.9996\n",
            "Epoch 39/100\n",
            "938/938 [==============================] - 50s 53ms/step - loss: 0.0027 - accuracy: 0.9995\n",
            "Epoch 40/100\n",
            "938/938 [==============================] - 50s 53ms/step - loss: 0.0025 - accuracy: 0.9996\n",
            "Epoch 41/100\n",
            "938/938 [==============================] - 50s 53ms/step - loss: 0.0015 - accuracy: 0.9996\n",
            "Epoch 42/100\n",
            "938/938 [==============================] - 50s 54ms/step - loss: 0.0019 - accuracy: 0.9997\n",
            "Epoch 43/100\n",
            "938/938 [==============================] - 50s 53ms/step - loss: 0.0019 - accuracy: 0.9997\n",
            "Epoch 44/100\n",
            "938/938 [==============================] - 49s 53ms/step - loss: 0.0032 - accuracy: 0.9992\n",
            "Epoch 45/100\n",
            "938/938 [==============================] - 50s 53ms/step - loss: 0.0021 - accuracy: 0.9995\n",
            "Epoch 46/100\n",
            "938/938 [==============================] - 50s 53ms/step - loss: 0.0024 - accuracy: 0.9996\n",
            "Epoch 47/100\n",
            "938/938 [==============================] - 50s 53ms/step - loss: 0.0015 - accuracy: 0.9997\n",
            "Epoch 48/100\n",
            "938/938 [==============================] - 50s 53ms/step - loss: 0.0013 - accuracy: 0.9997\n",
            "Epoch 49/100\n",
            "938/938 [==============================] - 50s 53ms/step - loss: 0.0016 - accuracy: 0.9997\n",
            "Epoch 50/100\n",
            "938/938 [==============================] - 50s 53ms/step - loss: 4.3249e-04 - accuracy: 0.9999\n",
            "Epoch 51/100\n",
            "938/938 [==============================] - 50s 53ms/step - loss: 0.0018 - accuracy: 0.9998\n",
            "Epoch 52/100\n",
            "938/938 [==============================] - 54s 58ms/step - loss: 0.0012 - accuracy: 0.9998\n",
            "Epoch 53/100\n",
            "938/938 [==============================] - 51s 54ms/step - loss: 0.0022 - accuracy: 0.9998\n",
            "Epoch 54/100\n",
            "938/938 [==============================] - 50s 53ms/step - loss: 0.0028 - accuracy: 0.9995\n",
            "Epoch 55/100\n",
            "938/938 [==============================] - 50s 54ms/step - loss: 0.0013 - accuracy: 0.9998\n",
            "Epoch 56/100\n",
            "938/938 [==============================] - 50s 53ms/step - loss: 0.0014 - accuracy: 0.9997\n",
            "Epoch 57/100\n",
            "938/938 [==============================] - 50s 53ms/step - loss: 9.8473e-04 - accuracy: 0.9997\n",
            "Epoch 58/100\n",
            "938/938 [==============================] - 50s 53ms/step - loss: 0.0018 - accuracy: 0.9998\n",
            "Epoch 59/100\n",
            "938/938 [==============================] - 50s 54ms/step - loss: 7.6029e-04 - accuracy: 0.9998\n",
            "Epoch 60/100\n",
            "938/938 [==============================] - 50s 54ms/step - loss: 0.0013 - accuracy: 0.9997\n",
            "Epoch 61/100\n",
            "938/938 [==============================] - 50s 53ms/step - loss: 0.0010 - accuracy: 0.9998\n",
            "Epoch 62/100\n",
            "938/938 [==============================] - 50s 53ms/step - loss: 0.0018 - accuracy: 0.9997\n",
            "Epoch 63/100\n",
            "938/938 [==============================] - 50s 53ms/step - loss: 0.0022 - accuracy: 0.9997\n",
            "Epoch 64/100\n",
            "938/938 [==============================] - 54s 58ms/step - loss: 0.0017 - accuracy: 0.9997\n",
            "Epoch 65/100\n",
            "938/938 [==============================] - 49s 53ms/step - loss: 0.0019 - accuracy: 0.9997\n",
            "Epoch 66/100\n",
            "938/938 [==============================] - 49s 53ms/step - loss: 0.0015 - accuracy: 0.9998\n",
            "Epoch 67/100\n",
            "938/938 [==============================] - 49s 53ms/step - loss: 6.5960e-04 - accuracy: 0.9999\n",
            "Epoch 68/100\n",
            "938/938 [==============================] - 49s 53ms/step - loss: 5.4917e-04 - accuracy: 0.9998\n",
            "Epoch 69/100\n",
            "938/938 [==============================] - 49s 52ms/step - loss: 0.0016 - accuracy: 0.9997\n",
            "Epoch 70/100\n",
            "938/938 [==============================] - 49s 52ms/step - loss: 6.7403e-04 - accuracy: 0.9999\n",
            "Epoch 71/100\n",
            "938/938 [==============================] - 49s 52ms/step - loss: 0.0013 - accuracy: 0.9998\n",
            "Epoch 72/100\n",
            "938/938 [==============================] - 49s 53ms/step - loss: 0.0013 - accuracy: 0.9998\n",
            "Epoch 73/100\n",
            "938/938 [==============================] - 50s 53ms/step - loss: 0.0013 - accuracy: 0.9998\n",
            "Epoch 74/100\n",
            "938/938 [==============================] - 50s 53ms/step - loss: 3.2652e-04 - accuracy: 0.9999\n",
            "Epoch 75/100\n",
            "938/938 [==============================] - 49s 53ms/step - loss: 0.0013 - accuracy: 0.9999\n",
            "Epoch 76/100\n",
            "938/938 [==============================] - 49s 53ms/step - loss: 3.4600e-04 - accuracy: 0.9999\n",
            "Epoch 77/100\n",
            "938/938 [==============================] - 49s 53ms/step - loss: 5.6783e-04 - accuracy: 0.9999\n",
            "Epoch 78/100\n",
            "938/938 [==============================] - 50s 53ms/step - loss: 1.4229e-04 - accuracy: 1.0000\n",
            "Epoch 79/100\n",
            "938/938 [==============================] - 50s 53ms/step - loss: 0.0023 - accuracy: 0.9997\n",
            "Epoch 80/100\n",
            "938/938 [==============================] - 49s 52ms/step - loss: 0.0013 - accuracy: 0.9998\n",
            "Epoch 81/100\n",
            "938/938 [==============================] - 49s 52ms/step - loss: 5.6180e-04 - accuracy: 0.9999\n",
            "Epoch 82/100\n",
            "938/938 [==============================] - 50s 53ms/step - loss: 0.0016 - accuracy: 0.9997\n",
            "Epoch 83/100\n",
            "938/938 [==============================] - 49s 53ms/step - loss: 0.0020 - accuracy: 0.9998\n",
            "Epoch 84/100\n",
            "938/938 [==============================] - 50s 53ms/step - loss: 5.1886e-04 - accuracy: 0.9999\n",
            "Epoch 85/100\n",
            "938/938 [==============================] - 50s 53ms/step - loss: 8.1903e-04 - accuracy: 0.9999\n",
            "Epoch 86/100\n",
            "938/938 [==============================] - 49s 52ms/step - loss: 6.3038e-05 - accuracy: 1.0000\n",
            "Epoch 87/100\n",
            "938/938 [==============================] - 49s 52ms/step - loss: 0.0011 - accuracy: 0.9999\n",
            "Epoch 88/100\n",
            "938/938 [==============================] - 49s 53ms/step - loss: 0.0010 - accuracy: 0.9999\n",
            "Epoch 89/100\n",
            "938/938 [==============================] - 50s 53ms/step - loss: 7.5412e-04 - accuracy: 0.9999\n",
            "Epoch 90/100\n",
            "938/938 [==============================] - 49s 53ms/step - loss: 4.6690e-10 - accuracy: 1.0000\n",
            "Epoch 91/100\n",
            "938/938 [==============================] - 50s 53ms/step - loss: 0.0000e+00 - accuracy: 1.0000\n",
            "Epoch 92/100\n",
            "938/938 [==============================] - 49s 53ms/step - loss: 0.0000e+00 - accuracy: 1.0000\n",
            "Epoch 93/100\n",
            "938/938 [==============================] - 49s 53ms/step - loss: 0.0000e+00 - accuracy: 1.0000\n",
            "Epoch 94/100\n",
            "938/938 [==============================] - 49s 52ms/step - loss: 0.0000e+00 - accuracy: 1.0000\n",
            "Epoch 95/100\n",
            "938/938 [==============================] - 50s 53ms/step - loss: 0.0000e+00 - accuracy: 1.0000\n",
            "Epoch 96/100\n",
            "938/938 [==============================] - 50s 53ms/step - loss: 0.0000e+00 - accuracy: 1.0000\n",
            "Epoch 97/100\n",
            "938/938 [==============================] - 50s 53ms/step - loss: 0.0000e+00 - accuracy: 1.0000\n",
            "Epoch 98/100\n",
            "938/938 [==============================] - 49s 52ms/step - loss: 0.0000e+00 - accuracy: 1.0000\n",
            "Epoch 99/100\n",
            "938/938 [==============================] - 49s 52ms/step - loss: 0.0000e+00 - accuracy: 1.0000\n",
            "Epoch 100/100\n",
            "938/938 [==============================] - 49s 52ms/step - loss: 0.0000e+00 - accuracy: 1.0000\n"
          ],
          "name": "stdout"
        },
        {
          "output_type": "execute_result",
          "data": {
            "text/plain": [
              "<tensorflow.python.keras.callbacks.History at 0x7f1fb1121f60>"
            ]
          },
          "metadata": {
            "tags": []
          },
          "execution_count": 35
        }
      ]
    },
    {
      "cell_type": "code",
      "metadata": {
        "colab": {
          "base_uri": "https://localhost:8080/"
        },
        "id": "BxpUZAJzBBEU",
        "outputId": "9d334bae-c6cf-46ea-c763-7b29ef94da5c"
      },
      "source": [
        "test_loss, test_accuracy = model.evaluate(test_images, test_labels)"
      ],
      "execution_count": null,
      "outputs": [
        {
          "output_type": "stream",
          "text": [
            "313/313 [==============================] - 3s 9ms/step - loss: 0.1810 - accuracy: 0.9940\n"
          ],
          "name": "stdout"
        }
      ]
    },
    {
      "cell_type": "code",
      "metadata": {
        "colab": {
          "base_uri": "https://localhost:8080/"
        },
        "id": "EF148M7_-fNs",
        "outputId": "85dbd6eb-5d80-4451-c1b7-bb72cfe695fd"
      },
      "source": [
        "test_accuracy"
      ],
      "execution_count": null,
      "outputs": [
        {
          "output_type": "execute_result",
          "data": {
            "text/plain": [
              "0.9940000176429749"
            ]
          },
          "metadata": {
            "tags": []
          },
          "execution_count": 37
        }
      ]
    },
    {
      "cell_type": "code",
      "metadata": {
        "colab": {
          "base_uri": "https://localhost:8080/"
        },
        "id": "4Su1eGxEBJ_Y",
        "outputId": "8894cea9-6617-45e5-f7dd-77fbff2adf0f"
      },
      "source": [
        "predictions = model.predict_classes(test_images)"
      ],
      "execution_count": null,
      "outputs": [
        {
          "output_type": "stream",
          "text": [
            "WARNING:tensorflow:From <ipython-input-38-cd3d268a0ddd>:1: Sequential.predict_classes (from tensorflow.python.keras.engine.sequential) is deprecated and will be removed after 2021-01-01.\n",
            "Instructions for updating:\n",
            "Please use instead:* `np.argmax(model.predict(x), axis=-1)`,   if your model does multi-class classification   (e.g. if it uses a `softmax` last-layer activation).* `(model.predict(x) > 0.5).astype(\"int32\")`,   if your model does binary classification   (e.g. if it uses a `sigmoid` last-layer activation).\n"
          ],
          "name": "stdout"
        }
      ]
    },
    {
      "cell_type": "code",
      "metadata": {
        "colab": {
          "base_uri": "https://localhost:8080/",
          "height": 282
        },
        "id": "f2-dmGCQBOVo",
        "outputId": "2adca65e-9e9f-489a-f772-7bdf5a51bf4d"
      },
      "source": [
        "plt.imshow(image.array_to_img(test_images[999]), cmap=\"gray\")"
      ],
      "execution_count": null,
      "outputs": [
        {
          "output_type": "execute_result",
          "data": {
            "text/plain": [
              "<matplotlib.image.AxesImage at 0x7f1fae10a5c0>"
            ]
          },
          "metadata": {
            "tags": []
          },
          "execution_count": 39
        },
        {
          "output_type": "display_data",
          "data": {
            "image/png": "[encoded data removed]",
            "text/plain": [
              "<Figure size 432x288 with 1 Axes>"
            ]
          },
          "metadata": {
            "tags": [],
            "needs_background": "light"
          }
        }
      ]
    },
    {
      "cell_type": "code",
      "metadata": {
        "colab": {
          "base_uri": "https://localhost:8080/"
        },
        "id": "oKgEbv9tR1FH",
        "outputId": "423eec2b-b19e-4d9a-e718-d5cdd610a249"
      },
      "source": [
        "predictions[999]"
      ],
      "execution_count": null,
      "outputs": [
        {
          "output_type": "execute_result",
          "data": {
            "text/plain": [
              "9"
            ]
          },
          "metadata": {
            "tags": []
          },
          "execution_count": 40
        }
      ]
    },
    {
      "cell_type": "code",
      "metadata": {
        "id": "o-tQhv5DR3pW"
      },
      "source": [
        "img = image.load_img(path=\"/content/IMG_DA871CC1A547-1.jpeg\", grayscale=True, target_size=(28,28,1))\n",
        "img = image.img_to_array(img)\n",
        "plt.imshow(image.array_to_img(img), cmap=\"gray\")\n",
        "img = img.astype('float')/255\n",
        "test_img = img.reshape((1, 28, 28, 1))\n",
        "img_class = model.predict_classes(test_img)\n",
        "prediction = img_class[0]"
      ],
      "execution_count": null,
      "outputs": []
    },
    {
      "cell_type": "code",
      "metadata": {
        "id": "2RAzb4H7R8x0"
      },
      "source": [
        "prediction"
      ],
      "execution_count": null,
      "outputs": []
    },
    {
      "cell_type": "code",
      "metadata": {
        "id": "caCGkmqiSB6C"
      },
      "source": [
        ""
      ],
      "execution_count": null,
      "outputs": []
    }
  ]
}